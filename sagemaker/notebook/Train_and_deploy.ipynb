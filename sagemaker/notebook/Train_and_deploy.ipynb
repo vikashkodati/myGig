{
 "cells": [
  {
   "cell_type": "markdown",
   "id": "3f283d3c",
   "metadata": {},
   "source": [
    "# Heart Attack Prediction"
   ]
  },
  {
   "cell_type": "markdown",
   "id": "a088e7d3",
   "metadata": {},
   "source": [
    "The purpose of this notebook is to train a Logistic Regression model for predicting the chances of a heart attack. The dataset used to train the model can be found at https://www.kaggle.com/datasets/rashikrahmanpritom/heart-attack-analysis-prediction-dataset?select=heart.csv."
   ]
  },
  {
   "cell_type": "markdown",
   "id": "940aa293",
   "metadata": {},
   "source": [
    "### Import libraries"
   ]
  },
  {
   "cell_type": "markdown",
   "id": "9583c1cb",
   "metadata": {},
   "source": [
    "In this section, we import all the libraries needed for preprocessing of dataset and training and deployment of the model."
   ]
  },
  {
   "cell_type": "code",
   "execution_count": 60,
   "id": "aa97b40a",
   "metadata": {},
   "outputs": [],
   "source": [
    "import sagemaker\n",
    "from sagemaker.sklearn.model import SKLearnModel\n",
    "from sagemaker import get_execution_role\n",
    "import numpy as np"
   ]
  },
  {
   "cell_type": "markdown",
   "id": "85714456",
   "metadata": {},
   "source": [
    "### Preprocessing of data"
   ]
  },
  {
   "cell_type": "markdown",
   "id": "129fa3c4",
   "metadata": {},
   "source": [
    "In this section, we extract data from the file \"heart.csv\" into a numpy array and split it into training and testing data. We also extract features and labels of both training and testing dataset. "
   ]
  },
  {
   "cell_type": "code",
   "execution_count": 49,
   "id": "69bdd3cf",
   "metadata": {},
   "outputs": [],
   "source": [
    "rawdata = np.genfromtxt(\"heart.csv\", delimiter=',', skip_header=1)\n",
    "train = rawdata[:int(len(rawdata) * 0.8)]\n",
    "test = rawdata[int(len(rawdata) * 0.8):]\n",
    "Xtr = train[:, :-1]\n",
    "Ytr = train[:, -1]\n",
    "Xts = test[:, :-1]\n",
    "Yts = test[:, -1]"
   ]
  },
  {
   "cell_type": "markdown",
   "id": "ad0c2772",
   "metadata": {},
   "source": [
    "### Training"
   ]
  },
  {
   "cell_type": "markdown",
   "id": "f604cfaa",
   "metadata": {},
   "source": [
    "In this section, we setup the Logistic Regression model of SageMaker in 'ml.m5.xlarge' instance, prepare the data in \"RecordIO Protobuf\" format that is expected by SageMaker models and train the model with it."
   ]
  },
  {
   "cell_type": "code",
   "execution_count": null,
   "id": "6c8be905",
   "metadata": {},
   "outputs": [],
   "source": [
    "linear = sagemaker.LinearLearner(role = get_execution_role(),\n",
    "                                 instance_count = 1,\n",
    "                                 instance_type = 'ml.m5.xlarge',\n",
    "                                 predictor_type='regressor',\n",
    "                                 sagemaker_session=sagemaker.Session())\n",
    "train_data_records = linear.record_set(Xtr.astype(np.float32), labels=Ytr.astype(np.float32), channel='train')\n",
    "linear.fit(train_data_records)"
   ]
  },
  {
   "cell_type": "markdown",
   "id": "8fdf2001",
   "metadata": {},
   "source": [
    "### Endpoint"
   ]
  },
  {
   "cell_type": "markdown",
   "id": "be1fd2a4",
   "metadata": {},
   "source": [
    "In this section, we create an endpoint on 'ml.t2.medium' instance for hosting the model for making predictions."
   ]
  },
  {
   "cell_type": "code",
   "execution_count": null,
   "id": "124a473b",
   "metadata": {},
   "outputs": [],
   "source": [
    "predictor = linear.deploy(initial_instance_count=1, instance_type='ml.t2.medium')"
   ]
  }
 ],
 "metadata": {
  "kernelspec": {
   "display_name": "conda_python3",
   "language": "python",
   "name": "conda_python3"
  },
  "language_info": {
   "codemirror_mode": {
    "name": "ipython",
    "version": 3
   },
   "file_extension": ".py",
   "mimetype": "text/x-python",
   "name": "python",
   "nbconvert_exporter": "python",
   "pygments_lexer": "ipython3",
   "version": "3.10.10"
  }
 },
 "nbformat": 4,
 "nbformat_minor": 5
}
